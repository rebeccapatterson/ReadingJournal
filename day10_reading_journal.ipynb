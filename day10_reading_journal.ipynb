{
 "cells": [
  {
   "cell_type": "markdown",
   "metadata": {},
   "source": [
    "# Day 10 Reading Journal\n",
    "\n",
    "This journal includes several required exercises, but it is meant to encourage active reading more generally.  You should use the journal to take detailed notes, catalog questions, and explore the content from Think Python deeply.\n",
    "\n",
    "Reading: Think Python Chapter 16, 17\n",
    "\n",
    "**Due: Thursday, February 25 at 12 noon**\n",
    "\n"
   ]
  },
  {
   "cell_type": "markdown",
   "metadata": {},
   "source": [
    "## [Chapter 16](http://www.greenteapress.com/thinkpython/html/thinkpython017.html)\n"
   ]
  },
  {
   "cell_type": "markdown",
   "metadata": {
    "is_question": true,
    "problem": "Exercise 16.2"
   },
   "source": [
    "### Exercise 2  \n",
    "\n",
    "Write a boolean function called `is_after` that takes two `Time` objects, `t1` and `t2`, and returns `True` if `t1` follows `t2` chronologically and `False` otherwise. Challenge: don’t use an `if` statement. "
   ]
  },
  {
   "cell_type": "code",
   "execution_count": 1,
   "metadata": {
    "collapsed": false,
    "solution": "Exercise 16.2"
   },
   "outputs": [
    {
     "data": {
      "text/plain": [
       "True"
      ]
     },
     "execution_count": 1,
     "metadata": {},
     "output_type": "execute_result"
    }
   ],
   "source": [
    "class Time(object):\n",
    "    \"\"\"Represents the time of day (military time).\n",
    "    \n",
    "    attributes: hour, minute, second\n",
    "    \"\"\"\n",
    "\n",
    "def is_after(t1,t2):\n",
    "    if time1.hour>time2.hour:\n",
    "        return True\n",
    "    elif time1.hour==time2.hour:\n",
    "        if time1.minute>time2.minute:\n",
    "            return True\n",
    "        elif time1.minute==time2.minute:\n",
    "            if time1.second>time2.second:\n",
    "                return True\n",
    "    else:\n",
    "        return False\n",
    "       \n",
    "time1= Time()\n",
    "time1.hour= 11\n",
    "time1.minute= 12\n",
    "time1.second=13\n",
    "\n",
    "time2= Time()\n",
    "time2.hour= 11\n",
    "time2.minute= 11\n",
    "time2.second= 11\n",
    "\n",
    "is_after(time1, time2)"
   ]
  },
  {
   "cell_type": "markdown",
   "metadata": {},
   "source": [
    "## [Chapter 17](http://www.greenteapress.com/thinkpython/html/thinkpython018.html)\n",
    "\n",
    "In chapter 17 we finally have the tools to really put user-defined classes to work! In the exercises for this reading journal, we'll go back and add methods to your `Point` class from Chapter 15 to make it a lot easier to use."
   ]
  },
  {
   "cell_type": "markdown",
   "metadata": {
    "is_question": true,
    "problem": "Exercise 17.2"
   },
   "source": [
    "### Exercise 2  \n",
    "\n",
    "Write an init method for the `Point` class that takes `x` and `y` as optional parameters and assigns them to the corresponding attributes. "
   ]
  },
  {
   "cell_type": "code",
   "execution_count": 14,
   "metadata": {
    "collapsed": false,
    "solution": "Exercise 17.2"
   },
   "outputs": [
    {
     "name": "stdout",
     "output_type": "stream",
     "text": [
      "2,5\n"
     ]
    }
   ],
   "source": [
    "class Point(object):\n",
    "    \"\"\"Represents a point in 2-D space.\n",
    "    \n",
    "    attributes: x,y\n",
    "    \"\"\"\n",
    "    #x and y are optional, if not given, will use default (0,0)\n",
    "    def __init__(self, x=0, y=0):\n",
    "        self.x= x\n",
    "        self.y= y\n",
    "\n",
    "point=Point(2,5)\n",
    "\n",
    "print str(point.x) +\",\"+ str(point.y)"
   ]
  },
  {
   "cell_type": "markdown",
   "metadata": {
    "is_question": true,
    "problem": "Exercise 17.3"
   },
   "source": [
    "### Exercise 3  \n",
    "\n",
    "Write a str method for the `Point` class. Create a `Point` object and print it."
   ]
  },
  {
   "cell_type": "code",
   "execution_count": 23,
   "metadata": {
    "collapsed": false,
    "solution": "Exercise 17.3"
   },
   "outputs": [
    {
     "name": "stdout",
     "output_type": "stream",
     "text": [
      "( 2,15)\n"
     ]
    }
   ],
   "source": [
    "class Point(object):\n",
    "    \"\"\"Represents a point in 2-D space\n",
    "    \n",
    "    attributes: x,y\n",
    "    \"\"\"\n",
    "        #x and y are optional, if not given, will use default (0,0)\n",
    "    def __init__(self, x=0, y=0):\n",
    "        self.x= x\n",
    "        self.y= y\n",
    "    \n",
    "    def __str__(self):\n",
    "        #return str(self.x)+ \",\"+ str(self.y)\n",
    "        return \"({:2},{:2})\".format(self.x, self.y)\n",
    "\n",
    "point= Point(2,15)\n",
    "print point"
   ]
  },
  {
   "cell_type": "markdown",
   "metadata": {
    "is_question": true,
    "problem": "Exercise 17.4"
   },
   "source": [
    "### Exercise 4  \n",
    "\n",
    "Write an add method for the `Point` class. Optional: implement operator overloading so that you can use the '+' operator."
   ]
  },
  {
   "cell_type": "code",
   "execution_count": 30,
   "metadata": {
    "collapsed": false,
    "solution": "Exercise 17.4"
   },
   "outputs": [
    {
     "name": "stdout",
     "output_type": "stream",
     "text": [
      "( 3,12)\n"
     ]
    }
   ],
   "source": [
    "class Point(object):\n",
    "    \"\"\"Represents a point in 2-D space\n",
    "    \n",
    "    attributes: x,y\n",
    "    \"\"\"\n",
    "        #x and y are optional, if not given, will use default (0,0)\n",
    "    def __init__(self, x=0, y=0):\n",
    "        self.x= x\n",
    "        self.y= y\n",
    "    \n",
    "    def __str__(self):\n",
    "        #return str(self.x)+ \",\"+ str(self.y)\n",
    "        return \"({:2},{:2})\".format(self.x, self.y)\n",
    "    \n",
    "    def __add__(self, other):\n",
    "        x= self.x+other.x\n",
    "        y= self.y+other.y\n",
    "        return Point(x,y)\n",
    "\n",
    "point= Point(2,5)\n",
    "next_point= Point(1,7)\n",
    "print point+next_point"
   ]
  },
  {
   "cell_type": "markdown",
   "metadata": {
    "is_question": true,
    "problem": "Exercise 17.7"
   },
   "source": [
    "### Exercise 7  \n",
    "\n",
    "This exercise is a cautionary tale about one of the most common, and difficult to find, errors in Python. Write a definition for a class named `Kangaroo` with the following methods:\n",
    "\n",
    " 1. An `__init__` method that initializes an attribute named `pouch_contents` to an empty list.\n",
    " 2. A method named `put_in_pouch` that takes an object of any type and adds it to `pouch_contents`.\n",
    " 3. A `__str__` method that returns a string representation of the `Kangaroo` object and the contents of the pouch.\n",
    "\n",
    "Test your code by creating two `Kangaroo` objects, assigning them to variables named `kanga` and `roo`, and then adding `roo` to the contents of `kanga`’s pouch.\n",
    "\n",
    "Download http://thinkpython.com/code/BadKangaroo.py. It contains a solution to the previous problem with one big, nasty bug. Find and fix the bug.\n",
    "\n",
    "If you get stuck, you can download http://thinkpython.com/code/GoodKangaroo.py, which explains the problem and demonstrates a solution. "
   ]
  },
  {
   "cell_type": "code",
   "execution_count": 5,
   "metadata": {
    "collapsed": false,
    "solution": "Exercise 17.7"
   },
   "outputs": [
    {
     "name": "stdout",
     "output_type": "stream",
     "text": [
      "<__main__.Kangaroo object at 0x7fbcacda6490> with pouch contents:\n",
      "'rock'\n",
      "'keychain'\n",
      "'muffin'\n",
      "<__main__.Kangaroo object at 0x7fbcacdacd10>\n",
      "<__main__.Kangaroo object at 0x7fbcacdacd10> with pouch contents:\n"
     ]
    }
   ],
   "source": [
    "class Kangaroo(object):\n",
    "    \"\"\"Represents a kangaroo and the contents in its pouch\n",
    "    \n",
    "    attributes:pouch_contents\n",
    "    \"\"\"\n",
    "    #if pouch_contents=[], then it could be modified by one of the kangaroos\n",
    "    #and the modification would stand for all future kangaroos\n",
    "    def __init__(self, pouch_contents=None):\n",
    "        if pouch_contents == None:\n",
    "            pouch_contents = []\n",
    "        self.pouch_contents= pouch_contents\n",
    "        \n",
    "    def __str__(self):\n",
    "        \"\"\"return a string representing the Kangaroo and objects in its \n",
    "        pouch\"\"\"\n",
    "        #creates a list with the name of the kangaroo, and sets up where\n",
    "        #contents will be listed\n",
    "#trouble making it say name of kangaroo....\n",
    "        t = [ object.__str__(self) + ' with pouch contents:' ]\n",
    "        for thing in self.pouch_contents:\n",
    "            s = '' + object.__str__(thing)\n",
    "            #add contents to the list\n",
    "            t.append(s)\n",
    "        return '\\n'.join(t)\n",
    "\n",
    "    def put_in_pouch(self, thing):\n",
    "        \"\"\"adds new thing to the pouch\"\"\"\n",
    "        self.pouch_contents.append(thing)\n",
    "\n",
    "kanga = Kangaroo()\n",
    "roo = Kangaroo()\n",
    "\n",
    "kanga.put_in_pouch('rock')\n",
    "kanga.put_in_pouch('keychain')\n",
    "kanga.put_in_pouch('muffin')\n",
    "kanga.put_in_pouch(roo)\n",
    "\n",
    "\n",
    "print kanga\n",
    "\n",
    "print roo"
   ]
  },
  {
   "cell_type": "markdown",
   "metadata": {
    "is_question": true,
    "problem": "Time spent"
   },
   "source": [
    "## Quick poll\n",
    "About how long did you spend working on this Reading Journal?"
   ]
  },
  {
   "cell_type": "markdown",
   "metadata": {
    "poll_response": true,
    "solution": "Time spent"
   },
   "source": [
    "2.5 hours"
   ]
  },
  {
   "cell_type": "markdown",
   "metadata": {
    "is_question": true,
    "problem": "Feedback"
   },
   "source": [
    "## Reading Journal feedback\n",
    "\n",
    "Have any comments on this Reading Journal? Feel free to leave them below and we'll read them when you submit your journal entry. This could include suggestions to improve the exercises, topics you'd like to see covered in class next time, or other feedback.\n",
    "\n",
    "If you have Python questions or run into problems while completing the reading, you should post them to Piazza instead so you can get a quick response before your journal is submitted."
   ]
  },
  {
   "cell_type": "markdown",
   "metadata": {
    "feedback_response": true,
    "solution": "Feedback"
   },
   "source": [
    "I'm having a lot of trouble figuring out the __str__ method still.  The formatting isn't terribly clear to me from the reading (I used what we did in floobits in class), and I never did figure out how to make it say the kangaroo's name (the example code didn't do this properly for me either)."
   ]
  }
 ],
 "metadata": {
  "celltoolbar": "Edit Metadata",
  "kernelspec": {
   "display_name": "Python 2",
   "language": "python",
   "name": "python2"
  },
  "language_info": {
   "codemirror_mode": {
    "name": "ipython",
    "version": 2
   },
   "file_extension": ".py",
   "mimetype": "text/x-python",
   "name": "python",
   "nbconvert_exporter": "python",
   "pygments_lexer": "ipython2",
   "version": "2.7.6"
  }
 },
 "nbformat": 4,
 "nbformat_minor": 0
}
