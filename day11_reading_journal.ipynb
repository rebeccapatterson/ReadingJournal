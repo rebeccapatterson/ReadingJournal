{
 "cells": [
  {
   "cell_type": "markdown",
   "metadata": {},
   "source": [
    "# Day 11 Reading Journal\n",
    "\n",
    "This journal includes several required exercises, but it is meant to encourage active reading more generally.  You should use the journal to take detailed notes, catalog questions, and explore the content from Think Python deeply.\n",
    "\n",
    "Reading: Review Think Python Chapters 15-17\n",
    "\n",
    "**Due: Monday, February 29 at 12 noon**\n",
    "\n"
   ]
  },
  {
   "cell_type": "markdown",
   "metadata": {},
   "source": [
    "## [Chapter 15](http://www.greenteapress.com/thinkpython/html/thinkpython016.html), [Chapter 16](http://www.greenteapress.com/thinkpython/html/thinkpython017.html), [Chapter 17](http://www.greenteapress.com/thinkpython/html/thinkpython018.html)\n",
    "\n",
    "\n",
    "By the end of chapter 17, we have all the tools we need to create our own user-defined types known as classes. In this reading journal, we're asking you to review and solidify your understanding of this material so we can build on it for the rest of the course. \n",
    "\n",
    "If you didn't get a chance to fully complete the Day 10 reading journal, you may want to do so now."
   ]
  },
  {
   "cell_type": "markdown",
   "metadata": {
    "problem": "Terminology"
   },
   "source": [
    "### Terminology\n",
    "\n",
    "You should be familiar with the following list of terms and concepts. If any of them are unclear to you, re-read, ask, write a definition in your own words, and try an example if appropriate.\n",
    "\n",
    " - class\n",
    " - object\n",
    " - instance\n",
    " - attribute\n",
    " - method\n",
    " - shallow vs deep copying\n",
    " - pure functions vs modifiers\n",
    " - initializing object instances\n",
    " "
   ]
  },
  {
   "cell_type": "markdown",
   "metadata": {
    "is_question": true,
    "problem": "Exercise 1"
   },
   "source": [
    "### Exercise\n",
    "\n",
    "We're going to take the first steps toward writing a calendar application. To keep things simple, we'll restrict ourselves to a single day for now. Write an `Event` class with the following attributes:\n",
    "\n",
    " - `name`  : Title for the `Event`\n",
    " - `start` : `Time` object representing the start time for the `Event`\n",
    " - `end`   : `Time` object representing the end time for the `Event`\n",
    "\n",
    "You can also augment your `Event` class with additional attributes, such as location and attendees.\n",
    "\n",
    "Write `__init__` and `__str__` methods for your `Event` class."
   ]
  },
  {
   "cell_type": "code",
   "execution_count": 20,
   "metadata": {
    "collapsed": false,
    "solution": "Exercise 1"
   },
   "outputs": [
    {
     "name": "stdout",
     "output_type": "stream",
     "text": [
      "meeting starts at 10:30:00 and ends at 11:30:00\n"
     ]
    }
   ],
   "source": [
    "class Time(object):\n",
    "    \"\"\"Represents the time of day. (military time)\n",
    "\n",
    "    attributes: hour, minute, second\n",
    "    \"\"\"\n",
    "    def __init__(self, hour=0, minute=0, second=0):\n",
    "        self.hour = hour\n",
    "        self.minute = minute\n",
    "        self.second = second\n",
    "    def __str__(self):\n",
    "        #return str(self.hour)+\":\"+str(self.minute)\n",
    "        return \"{:02}:{:02}:{:02}\".format(self.hour, self.minute, self.second)\n",
    "    \n",
    "class Event(object):\n",
    "    \"\"\"Represents an event on a day on a calander\n",
    "    \n",
    "    attributes: event name, start time, end time\n",
    "    \"\"\"\n",
    "    def __init__(self,name= \"event\", start_time= Time(0,0,1), end_time= Time(24,0,0)):\n",
    "        #set default to all day event\n",
    "        self.name= name\n",
    "        self.start_time= start_time\n",
    "        self.end_time= end_time\n",
    "    def __str__(self):\n",
    "        return \"{} starts at {} and ends at {}\".format(self.name, self.start_time, self.end_time)\n",
    "\n",
    "event1= Event(\"meeting\", Time(10,30), Time(11,30))   \n",
    "print event1"
   ]
  },
  {
   "cell_type": "markdown",
   "metadata": {
    "is_question": true,
    "problem": "Exercise 2"
   },
   "source": [
    "### Exercise\n",
    "\n",
    "Write a `duration` method that returns the duration of the `Event` in minutes."
   ]
  },
  {
   "cell_type": "code",
   "execution_count": 40,
   "metadata": {
    "collapsed": false,
    "solution": "Exercise 2"
   },
   "outputs": [
    {
     "name": "stdout",
     "output_type": "stream",
     "text": [
      "meeting has a duration of  60  minutes.\n"
     ]
    }
   ],
   "source": [
    "class Time(object):\n",
    "    \"\"\"Represents the time of day. (military time)\n",
    "\n",
    "    attributes: hour, minute, second\n",
    "    \"\"\"\n",
    "    def __init__(self, hour=0, minute=0, second=0):\n",
    "        self.hour = hour\n",
    "        self.minute = minute\n",
    "        self.second = second\n",
    "    def __str__(self):\n",
    "        #return str(self.hour)+\":\"+str(self.minute)\n",
    "        return \"{:02}:{:02}:{:02}\".format(self.hour, self.minute, self.second)\n",
    "    def time_to_int(time):\n",
    "        minutes= time.hour*60 +time.minute\n",
    "        seconds= minutes*60 +time.second\n",
    "        return seconds\n",
    "    def int_to_time(seconds):\n",
    "        time=Time()\n",
    "        minutes, time.seconds= divmod(seconds, 60)\n",
    "        time.hour, time.minute= divmod(minutes,60)\n",
    "        return time\n",
    "    def __add__(self, other):\n",
    "        seconds= self.time_to_int()+ other.time_to_int()\n",
    "        return int_to_time(seconds)\n",
    "    def __sub__(self, other):\n",
    "        seconds= self.time_to_int()-other.time_to_int()\n",
    "        return int_to_time(seconds)\n",
    "class Event(object):\n",
    "    \"\"\"Represents an event on a day on a calander\n",
    "    \n",
    "    attributes: event name, start time, end time\n",
    "    \"\"\"\n",
    "    def __init__(self,name= \"event\", start_time= Time(0,0,1), end_time= Time(24,0,0)):\n",
    "        #set default to all day event\n",
    "        self.name= name\n",
    "        self.start_time= start_time\n",
    "        self.end_time= end_time\n",
    "    def __str__(self):\n",
    "        return \"{} starts at {} and ends at {}\".format(self.name, self.start_time, self.end_time)\n",
    "    def duration(self):\n",
    "        #I wish I could have figured out how to do this using all the time methods I wrote... \n",
    "        #this would probably be prettier if I had figured it out.\n",
    "        start_sec= self.start_time.second\n",
    "        start_min= self.start_time.minute\n",
    "        start_hour= self.start_time.hour\n",
    "        end_sec= self.end_time.second\n",
    "        end_min= self.end_time.minute\n",
    "        end_hour= self.end_time.hour\n",
    "        \n",
    "        sec_diff= end_sec-start_sec\n",
    "        sec_to_min= sec_diff/60\n",
    "        \n",
    "        min_diff= end_min- start_min\n",
    "        \n",
    "        hour_diff= end_hour- start_hour\n",
    "        hour_to_min= hour_diff*60\n",
    "        \n",
    "        minutes= min_diff+sec_to_min+hour_to_min\n",
    "        return minutes\n",
    "\n",
    "event1= Event(\"meeting\",Time(10,30), Time(11,30))   \n",
    "print event1.name, \"has a duration of \",event1.duration(), \" minutes.\""
   ]
  },
  {
   "cell_type": "markdown",
   "metadata": {
    "is_question": true,
    "problem": "Exercise 3"
   },
   "source": [
    "### Exercise\n",
    "\n",
    "Write an `Agenda` class that contains several `Event`s for the day.\n",
    "\n",
    "**Quick check: ** How should you store `Event`s within your `Agenda` class?\n",
    "\n",
    "Your `Agenda` class should include a `print_agenda` method that prints out your schedule for the day, in order.\n",
    "\n",
    "**Optional:** Include a `is_feasible` method that returns `True` if your schedule has no time conflicts. You may want to write additional helper methods for the `Event` class to make this easier."
   ]
  },
  {
   "cell_type": "code",
   "execution_count": 51,
   "metadata": {
    "collapsed": false,
    "solution": "Exercise 3"
   },
   "outputs": [
    {
     "data": {
      "text/plain": [
       "<bound method Agenda.print_agenda of <__main__.Agenda object at 0x7f09c57d4a10>>"
      ]
     },
     "execution_count": 51,
     "metadata": {},
     "output_type": "execute_result"
    }
   ],
   "source": [
    "from operator import itemgetter, attrgetter\n",
    "\n",
    "class Time(object):\n",
    "    \"\"\"Represents the time of day. (military time)\n",
    "\n",
    "    attributes: hour, minute, second\n",
    "    \"\"\"\n",
    "    def __init__(self, hour=0, minute=0, second=0):\n",
    "        self.hour = hour\n",
    "        self.minute = minute\n",
    "        self.second = second\n",
    "    def __str__(self):\n",
    "        #return str(self.hour)+\":\"+str(self.minute)\n",
    "        return \"{:02}:{:02}:{:02}\".format(self.hour, self.minute, self.second)\n",
    "    def time_to_int(time):\n",
    "        minutes= time.hour*60 +time.minute\n",
    "        seconds= minutes*60 +time.second\n",
    "        return seconds\n",
    "    def int_to_time(seconds):\n",
    "        time=Time()\n",
    "        minutes, time.seconds= divmod(seconds, 60)\n",
    "        time.hour, time.minute= divmod(minutes,60)\n",
    "        return time\n",
    "    def __add__(self, other):\n",
    "        seconds= self.time_to_int()+ other.time_to_int()\n",
    "        return int_to_time(seconds)\n",
    "    def __sub__(self, other):\n",
    "        seconds= self.time_to_int()-other.time_to_int()\n",
    "        return int_to_time(seconds)\n",
    "class Event(object):\n",
    "    \"\"\"Represents an event on a day on a calander\n",
    "    \n",
    "    attributes: event name, start time, end time\n",
    "    \"\"\"\n",
    "    def __init__(self,name= \"event\", start_time= Time(0,0,1), end_time= Time(24,0,0)):\n",
    "        #set default to all day event\n",
    "        self.name= name\n",
    "        self.start_time= start_time\n",
    "        self.end_time= end_time\n",
    "    def __str__(self):\n",
    "        return \"{} starts at {} and ends at {}\".format(self.name, self.start_time, self.end_time)\n",
    "    def duration(self):\n",
    "        #I wish I could have figured out how to do this using all the time methods I wrote... \n",
    "        #this would probably be prettier if I had figured it out.\n",
    "        start_sec= self.start_time.second\n",
    "        start_min= self.start_time.minute\n",
    "        start_hour= self.start_time.hour\n",
    "        end_sec= self.end_time.second\n",
    "        end_min= self.end_time.minute\n",
    "        end_hour= self.end_time.hour\n",
    "        \n",
    "        sec_diff= end_sec-start_sec\n",
    "        sec_to_min= sec_diff/60\n",
    "        \n",
    "        min_diff= end_min- start_min\n",
    "        \n",
    "        hour_diff= end_hour- start_hour\n",
    "        hour_to_min= hour_diff*60\n",
    "        \n",
    "        minutes= min_diff+sec_to_min+hour_to_min\n",
    "        return minutes\n",
    "\n",
    "# event1= Event(\"meeting\",Time(10,30), Time(11,30))   \n",
    "# print event1.name, \"has a duration of \",event1.duration(), \" minutes.\"\n",
    "\n",
    "class Agenda(object):\n",
    "    \"\"\"Represents a schedule of events for a day\n",
    "    \n",
    "    attributes: list of events\n",
    "    \"\"\"\n",
    "    def __init__(self, events= None):\n",
    "        if events== None:\n",
    "            events=[]    \n",
    "        self.events= events\n",
    "    def __str__(self):\n",
    "        \"\"\"return a string representation of the events in the day,\n",
    "        with one event per line\"\"\"\n",
    "        t = [\"Today's schedule is:\"]\n",
    "        for event in self.events:\n",
    "            s = '    ' + object.__str__(event)\n",
    "            t.append(s)\n",
    "        return '\\n'.join(t)\n",
    "    def add_to_agenda(self, event):\n",
    "        \"\"\"add a new event to the schedule\"\"\"\n",
    "        self.events.append(event)\n",
    "    def print_agenda(self):\n",
    "        organized_agenda= sorted(self, key= attrgetter(self.event.start_time.hour, self.event.start_time.minute, self.event.start_time.second))\n",
    "        print organized_agenda\n",
    "        \n",
    "today= Agenda()\n",
    "today.add_to_agenda(Event(\"Thermo\", Time(9), Time(10,40)))\n",
    "today.add_to_agenda(Event(\"Probstat\", Time(10,50), Time(12,30)))\n",
    "\n",
    "today.print_agenda"
   ]
  },
  {
   "cell_type": "markdown",
   "metadata": {
    "is_question": true,
    "problem": "Exercise 4"
   },
   "source": [
    "### Going Beyond (optional)\n",
    "\n",
    "Some ideas for taking your application further:\n",
    " - Add people and/or places to the mix to create a scheduling assistant\n",
    " - Extend support for day-of-week or full date. A word of warning: dealing with dates and times in real applications is difficult due to the huge number of special cases (Perfect example: this reading journal is due on Leap Day). Consider using something like the Python [datetime](https://docs.python.org/2/library/datetime.html) module.\n",
    " - Use pickle or some other persistence strategy to save and load your `Agenda`."
   ]
  },
  {
   "cell_type": "code",
   "execution_count": null,
   "metadata": {
    "collapsed": true,
    "solution": "Exercise 4"
   },
   "outputs": [],
   "source": []
  },
  {
   "cell_type": "markdown",
   "metadata": {
    "is_poll": true,
    "is_question": true,
    "problem": "Time spent"
   },
   "source": [
    "## Quick poll\n",
    "About how long did you spend working on this Reading Journal?"
   ]
  },
  {
   "cell_type": "markdown",
   "metadata": {
    "poll_response": true,
    "solution": "Time spent"
   },
   "source": [
    " 4 hours"
   ]
  },
  {
   "cell_type": "markdown",
   "metadata": {
    "is_question": true,
    "problem": "Feedback"
   },
   "source": [
    "## Reading Journal feedback\n",
    "\n",
    "Have any comments on this Reading Journal? Feel free to leave them below and we'll read them when you submit your journal entry. This could include suggestions to improve the exercises, topics you'd like to see covered in class next time, or other feedback.\n",
    "\n",
    "If you have Python questions or run into problems while completing the reading, you should post them to Piazza instead so you can get a quick response before your journal is submitted."
   ]
  },
  {
   "cell_type": "markdown",
   "metadata": {
    "feedback_response": true,
    "solution": "Feedback"
   },
   "source": [
    "My biggest problem is still how to return the proper name of things rather than their location.  It would be really helpful for me if we went over this in class."
   ]
  }
 ],
 "metadata": {
  "celltoolbar": "Edit Metadata",
  "kernelspec": {
   "display_name": "Python 2",
   "language": "python",
   "name": "python2"
  },
  "language_info": {
   "codemirror_mode": {
    "name": "ipython",
    "version": 2
   },
   "file_extension": ".py",
   "mimetype": "text/x-python",
   "name": "python",
   "nbconvert_exporter": "python",
   "pygments_lexer": "ipython2",
   "version": "2.7.6"
  }
 },
 "nbformat": 4,
 "nbformat_minor": 0
}
