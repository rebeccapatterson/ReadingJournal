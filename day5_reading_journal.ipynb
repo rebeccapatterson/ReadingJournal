{
 "cells": [
  {
   "cell_type": "markdown",
   "metadata": {},
   "source": [
    "# Day 5 Reading Journal\n",
    "\n",
    "This journal includes several required exercises, but it is meant to encourage active reading more generally.  You should use the journal to take detailed notes, catalog questions, and explore the content from Think Python deeply.\n",
    "\n",
    "Reading: Think Python Chapter 4\n",
    "\n",
    "**Due: Monday, February 8 at 12 noon**\n",
    "\n"
   ]
  },
  {
   "cell_type": "markdown",
   "metadata": {},
   "source": [
    "## [Chapter 4](http://www.greenteapress.com/thinkpython/html/thinkpython005.html)\n",
    "\n",
    "In today's reading, you'll be exploring TurtleWorld!\n",
    "TurtleWorld is part of the [swampy](http://www.greenteapress.com/thinkpython/swampy/) package, written by Allen Downey.\n",
    "As part of the [Get Set](https://sites.google.com/site/sd16spring/home/assignments-and-mini-projects/setup-your-environment) assignment, you installed the swampy package using the pip Python package management tool. If you somehow missed that step or you see errors when you try to import TurtleWorld, you can install swampy by running:\n",
    "\n",
    "```\n",
    "sudo pip install swampy\n",
    "```\n",
    "\n",
    "at the command line.\n",
    "\n",
    "### Turtle wrangling\n",
    "\n",
    "You can always run your code as separate Python scripts, but here are a few tips for mixing TurtleWorld with Jupyter notebook:\n",
    "\n",
    " - TurtleWorld will appear in a new GUI window, rather than inline in the notebook like typical results do\n",
    " - You will not be able to close the TurtleWorld window unless you run `wait_for_user()` as the last line of your code.\n",
    " - Jupyter notebook works like one big Python script, even though it is broken up into sections. This means that you could create a Turtle in one cell, move it in a later cell, and then `wait_for_user()` in yet another. Despite this, it might be easier to treat each cell in this assignment as a separate script, creating a new world at the beginning and destroying it at the end of each."
   ]
  },
  {
   "cell_type": "markdown",
   "metadata": {},
   "source": [
    "### Get started\n",
    "\n",
    "Run the code in the cell below and make sure everything works. You should see brave Alice spring into the world and run forward. You can close the window when you're done by clicking on the 'X'. If this simple test doesn't work, check your swampy install (especially if you get an `ImportError`) and ask for help."
   ]
  },
  {
   "cell_type": "code",
   "execution_count": 42,
   "metadata": {
    "collapsed": true
   },
   "outputs": [],
   "source": [
    "from swampy.TurtleWorld import *\n",
    "\n",
    "# Create the world, and a turtle to put in it\n",
    "world = TurtleWorld()\n",
    "alice = Turtle()\n",
    "\n",
    "# Get moving, turtle!\n",
    "fd(alice, 50)\n",
    "\n",
    "# Wait for the user to close the window\n",
    "wait_for_user()"
   ]
  },
  {
   "cell_type": "markdown",
   "metadata": {
    "is_question": true,
    "problem": "Section 4.3"
   },
   "source": [
    "### Section 4.3 exercises\n",
    "Work through exercises 1-5 in Section 4.3, creating the `square`, `polygon`, `circle`, and `arc` functions. You can reference Allen's solutions, but please try the problems on your own first."
   ]
  },
  {
   "cell_type": "markdown",
   "metadata": {},
   "source": [
    "fd: forward\n",
    "bk: backward\n",
    "lt: left turn\n",
    "rt: right turn\n",
    "pu: pen up\n",
    "pd: pen down"
   ]
  },
  {
   "cell_type": "code",
   "execution_count": 2,
   "metadata": {
    "collapsed": false,
    "solution": "Section 4.3"
   },
   "outputs": [],
   "source": [
    "from swampy.TurtleWorld import *\n",
    "# Create the world, and a turtle to put in it\n",
    "world = TurtleWorld()\n",
    "bob= Turtle()\n",
    "\n",
    "def square(t):\n",
    "    for i in range (4):\n",
    "        fd(t, 100)\n",
    "        lt(t)\n",
    "    wait_for_user()\n",
    "    \n",
    "square(bob)        "
   ]
  },
  {
   "cell_type": "code",
   "execution_count": 11,
   "metadata": {
    "collapsed": true
   },
   "outputs": [],
   "source": [
    "from swampy.TurtleWorld import *\n",
    "# Create the world, and a turtle to put in it\n",
    "world = TurtleWorld()\n",
    "bob= Turtle()\n",
    "\n",
    "def square(t, length):\n",
    "    for i in range (4):\n",
    "        fd(t, length)\n",
    "        lt(t)\n",
    "    wait_for_user()\n",
    "    \n",
    "#square(bob, 50)\n",
    "square(bob, 150) "
   ]
  },
  {
   "cell_type": "code",
   "execution_count": 1,
   "metadata": {
    "collapsed": false
   },
   "outputs": [],
   "source": [
    "from swampy.TurtleWorld import *\n",
    "# Create the world, and a turtle to put in it\n",
    "world = TurtleWorld()\n",
    "bob= Turtle()\n",
    "\n",
    "def polygon(t, length, n):\n",
    "    for i in range (n):\n",
    "        fd(t, length)\n",
    "        lt(t,(360/n))\n",
    "    wait_for_user()\n",
    "    \n",
    "polygon(bob, 50, 3)"
   ]
  },
  {
   "cell_type": "code",
   "execution_count": 19,
   "metadata": {
    "collapsed": false
   },
   "outputs": [
    {
     "name": "stdout",
     "output_type": "stream",
     "text": [
      "KeyboardInterrupt\n"
     ]
    }
   ],
   "source": [
    "import math\n",
    "from swampy.TurtleWorld import *\n",
    "# Create the world, and a turtle to put in it\n",
    "world = TurtleWorld()\n",
    "bob= Turtle()\n",
    "\n",
    "def polygon(t, length, n):\n",
    "    for i in range (n):\n",
    "        fd(t, length)\n",
    "        lt(t,(360/n))\n",
    "    wait_for_user()\n",
    "\n",
    "def circle(t, r):\n",
    "    c= 2*math.pi*r\n",
    "    n= int(c/3)  +1              #sides to the polygon\n",
    "    length= c/n               #length of side to make cirlce\n",
    "    polygon(t, length, n)\n",
    "    wait_for_user()\n",
    "    \n",
    "circle(bob, 50)"
   ]
  },
  {
   "cell_type": "code",
   "execution_count": 33,
   "metadata": {
    "collapsed": false
   },
   "outputs": [],
   "source": [
    "import math\n",
    "from swampy.TurtleWorld import *\n",
    "# Create the world, and a turtle to put in it\n",
    "world = TurtleWorld()\n",
    "bob= Turtle()\n",
    "bob.delay=0.01\n",
    "\n",
    "def arc(t,r,angle):\n",
    "    c= 2*math.pi*r\n",
    "    arc_length= c*(float(angle)/360)\n",
    "    n= int(arc_length/3)+1\n",
    "    step_l= float(arc_length)/n\n",
    "    step_a= float(angle)/n\n",
    "    \n",
    "    for i in range (n):\n",
    "        fd(t, step_l)\n",
    "        lt(t, step_a)\n",
    "\n",
    "arc(bob, 50, 90)    \n",
    "    "
   ]
  },
  {
   "cell_type": "markdown",
   "metadata": {
    "is_question": true,
    "problem": "More fun"
   },
   "source": [
    "### Exercise: More fun with Turtles!\n",
    "Complete at least one of Exercise 2, 3, 4, or 5. If you come up with some cool drawings you'd like to share with the rest of the class, let us know!"
   ]
  },
  {
   "cell_type": "code",
   "execution_count": 51,
   "metadata": {
    "collapsed": false,
    "solution": "More fun"
   },
   "outputs": [
    {
     "name": "stdout",
     "output_type": "stream",
     "text": [
      "0.433883739118\n",
      "115.238243548\n"
     ]
    }
   ],
   "source": [
    "import math\n",
    "from swampy.TurtleWorld import *\n",
    "# Create the world, and a turtle to put in it\n",
    "world = TurtleWorld()\n",
    "bob= Turtle()\n",
    "bob.delay=0.1\n",
    "\n",
    "def turtle_pie(t, length, pieces):\n",
    "    edge= length\n",
    "    inner_angle= 360.0/pieces\n",
    "    inner_angle_rad= math.radians(inner_angle)\n",
    "    outer_angles= (180.0-inner_angle)/2\n",
    "    check= math.sin(.5*inner_angle_rad)\n",
    "    print check\n",
    "    cut= (.5*edge)/math.sin(.5*inner_angle_rad) \n",
    "    print cut\n",
    "    for i in range(pieces):\n",
    "        fd(t, cut)\n",
    "        lt(t, 180- outer_angles)\n",
    "        fd(t, edge)\n",
    "        lt(t, 180- outer_angles)\n",
    "        fd(t, cut)\n",
    "        lt(t, 180)\n",
    "    wait_for_user()    \n",
    "\n",
    "    \n",
    "turtle_pie(bob, 100, 7)    "
   ]
  },
  {
   "cell_type": "code",
   "execution_count": 17,
   "metadata": {
    "collapsed": true
   },
   "outputs": [],
   "source": [
    "#while trying to create turtle pies, bob decided to make a pentagram. \n",
    "#then a windmill. what will bob make next?\n",
    "import math\n",
    "from swampy.TurtleWorld import *\n",
    "# Create the world, and a turtle to put in it\n",
    "world = TurtleWorld()\n",
    "bob= Turtle()\n",
    "bob.delay=0.5\n",
    "\n",
    "def pointy_shapes(t, length, pieces):\n",
    "    edge= length\n",
    "    inner_angle= 360/pieces\n",
    "    outer_angles= (180-inner_angle)/2\n",
    "    outer_angles_rad= math.radians(outer_angles)\n",
    "    cut= math.cos(outer_angles_rad)*edge\n",
    "    for i in range(pieces):\n",
    "        fd(t, cut)\n",
    "        rt(t, outer_angles)\n",
    "        fd(t, edge)\n",
    "        lt(t, outer_angles)\n",
    "        fd(t, cut)\n",
    "        lt(t, 360- 2*inner_angle)\n",
    "    wait_for_user()    \n",
    "\n",
    "    \n",
    "pointy_shapes(bob, 50, 7)    "
   ]
  },
  {
   "cell_type": "markdown",
   "metadata": {},
   "source": [
    "## Reading Journal feedback\n",
    "\n",
    "Have any comments on this Reading Journal? Feel free to leave them below and we'll read them when you submit your journal entry. This could include suggestions to improve the exercises, topics you'd like to see covered in class next time, or other feedback.\n",
    "\n",
    "If you have Python questions or run into problems while completing the reading, you should post them to Piazza instead so you can get a quick response before your journal is submitted."
   ]
  },
  {
   "cell_type": "markdown",
   "metadata": {},
   "source": [
    " "
   ]
  }
 ],
 "metadata": {
  "kernelspec": {
   "display_name": "Python 2",
   "language": "python",
   "name": "python2"
  },
  "language_info": {
   "codemirror_mode": {
    "name": "ipython",
    "version": 2
   },
   "file_extension": ".py",
   "mimetype": "text/x-python",
   "name": "python",
   "nbconvert_exporter": "python",
   "pygments_lexer": "ipython2",
   "version": "2.7.6"
  }
 },
 "nbformat": 4,
 "nbformat_minor": 0
}
